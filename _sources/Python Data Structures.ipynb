{
 "cells": [
  {
   "cell_type": "markdown",
   "metadata": {},
   "source": [
    "   \n",
    "# Python🐍 Data Structures\n",
    "    "
   ]
  },
  {
   "cell_type": "markdown",
   "metadata": {},
   "source": [
    " 💡  <span style='font-family:Georgia'>\n",
    "    <font color= darkred> ***Don't learn and then start, start and then learn - Anon*** \n",
    "    </font> 💡   "
   ]
  },
  {
   "cell_type": "markdown",
   "metadata": {
    "toc": true
   },
   "source": [
    "<h1>Table of Contents<span class=\"tocSkip\"></span></h1>\n",
    "<div class=\"toc\"><ul class=\"toc-item\"><li><span><a href=\"#Python🐍-Data-Structures\" data-toc-modified-id=\"Python🐍-Data-Structures-1\"><span class=\"toc-item-num\">1&nbsp;&nbsp;</span>Python🐍 Data Structures</a></span></li><li><span><a href=\"#Agenda-📝\" data-toc-modified-id=\"Agenda-📝-2\"><span class=\"toc-item-num\">2&nbsp;&nbsp;</span>Agenda 📝</a></span></li><li><span><a href=\"#▶️-Theory\" data-toc-modified-id=\"▶️-Theory-3\"><span class=\"toc-item-num\">3&nbsp;&nbsp;</span>▶️ Theory</a></span><ul class=\"toc-item\"><li><span><a href=\"#DS-Summary\" data-toc-modified-id=\"DS-Summary-3.1\"><span class=\"toc-item-num\">3.1&nbsp;&nbsp;</span>DS Summary</a></span></li><li><span><a href=\"#Lists\" data-toc-modified-id=\"Lists-3.2\"><span class=\"toc-item-num\">3.2&nbsp;&nbsp;</span>Lists</a></span></li><li><span><a href=\"#Tuples\" data-toc-modified-id=\"Tuples-3.3\"><span class=\"toc-item-num\">3.3&nbsp;&nbsp;</span>Tuples</a></span></li><li><span><a href=\"#Dictionary\" data-toc-modified-id=\"Dictionary-3.4\"><span class=\"toc-item-num\">3.4&nbsp;&nbsp;</span>Dictionary</a></span></li></ul></li><li><span><a href=\"#Exercises-💥⚡\" data-toc-modified-id=\"Exercises-💥⚡-4\"><span class=\"toc-item-num\">4&nbsp;&nbsp;</span>Exercises 💥⚡</a></span><ul class=\"toc-item\"><li><span><a href=\"#List\" data-toc-modified-id=\"List-4.1\"><span class=\"toc-item-num\">4.1&nbsp;&nbsp;</span>List</a></span></li><li><span><a href=\"#Tuples\" data-toc-modified-id=\"Tuples-4.2\"><span class=\"toc-item-num\">4.2&nbsp;&nbsp;</span>Tuples</a></span></li><li><span><a href=\"#Dictionary\" data-toc-modified-id=\"Dictionary-4.3\"><span class=\"toc-item-num\">4.3&nbsp;&nbsp;</span>Dictionary</a></span></li></ul></li><li><span><a href=\"#Resources/Further-Reading-📚\" data-toc-modified-id=\"Resources/Further-Reading-📚-5\"><span class=\"toc-item-num\">5&nbsp;&nbsp;</span>Resources/Further Reading 📚</a></span></li><li><span><a href=\"#[Optional]-🤯\" data-toc-modified-id=\"[Optional]-🤯-6\"><span class=\"toc-item-num\">6&nbsp;&nbsp;</span>[Optional] 🤯</a></span><ul class=\"toc-item\"><li><span><a href=\"#Memory-Block\" data-toc-modified-id=\"Memory-Block-6.1\"><span class=\"toc-item-num\">6.1&nbsp;&nbsp;</span>Memory Block</a></span></li><li><span><a href=\"#Copying-and-aliasing-in-python\" data-toc-modified-id=\"Copying-and-aliasing-in-python-6.2\"><span class=\"toc-item-num\">6.2&nbsp;&nbsp;</span>Copying and aliasing in python</a></span></li></ul></li></ul></div>"
   ]
  },
  {
   "cell_type": "markdown",
   "metadata": {},
   "source": [
    "   \n",
    "# Agenda 📝\n",
    "\n",
    "* Data Structures\n",
    "    * List\n",
    "    * Dictionary\n",
    "    * Tuples\n",
    "* Pandas Intro\n",
    "    * Data analysis using Pandas\n",
    "* Exercises 💥⚡\n",
    "    \n",
    "<div/>"
   ]
  },
  {
   "cell_type": "markdown",
   "metadata": {},
   "source": [
    "# ▶️ Theory"
   ]
  },
  {
   "attachments": {},
   "cell_type": "markdown",
   "metadata": {},
   "source": [
    "## DS Summary\n",
    "\n",
    "![data_structure_summary.JPG](images/data_structure_summary.JPG)"
   ]
  },
  {
   "attachments": {},
   "cell_type": "markdown",
   "metadata": {},
   "source": [
    "\n",
    "## Lists\n",
    "\n",
    "* Lists are also ordered sequence\n",
    "* They can be modified\n",
    "* Lists can also contain multiple data types\n",
    "* Lists can be nested\n",
    "* List elements can be accesed via an index; also negative index\n",
    "* Index can also be used to slice the lists\n",
    "* You can contcatenate lists by combining them\n",
    "    * `l1 = [2 , 3]`\n",
    "    * `l2 = [5 , 6]`\n",
    "    * `l3 = l1 + l2`\n",
    "* `.extend()` method can be used to add elements to the list    \n",
    "\n",
    "\n",
    "\n",
    "## Tuples\n",
    "\n",
    "* Tuples are ordered sequence\n",
    "    * `height  = (5.11, 5.5, 5.8, 5.5)` \n",
    "* Different type of variables can be contained in a tuple, `str`, `int` etc.\n",
    "* The elements can be accesed via an index, staring from 0\n",
    "    * negative index can also be used\n",
    "* One can concatenate tuples by adding them\n",
    "    * `tuple1 = (2,3,4)`\n",
    "    * `tuple2 = tuple1 + (6,7)`\n",
    "* Once created, you can't manipulate a tuple. You will have to create a new tuple\n",
    "* Tuples can be nested. Tuples within tuples\n",
    "    * `nested_tuple = (1,2,(\"salt,\"sugar\"), (3,4))`\n",
    "\n",
    "## Dictionary \n",
    "    \n",
    "* A dictionary consists of ***keys*** and ***values***. \n",
    "* Compared to lists, instead of the numerical indexes, dictionaries have keys. \n",
    "* These keys are used to access values within a dictionary.\n"
   ]
  },
  {
   "cell_type": "markdown",
   "metadata": {},
   "source": [
    "![dictionary.png](images/dictionary.png)"
   ]
  },
  {
   "cell_type": "markdown",
   "metadata": {},
   "source": [
    "**Indexing in a list**"
   ]
  },
  {
   "attachments": {},
   "cell_type": "markdown",
   "metadata": {},
   "source": [
    "![index.png](images/index.png)"
   ]
  },
  {
   "cell_type": "markdown",
   "metadata": {},
   "source": [
    "\n",
    "# Exercises 💥⚡"
   ]
  },
  {
   "cell_type": "markdown",
   "metadata": {},
   "source": [
    "## List"
   ]
  },
  {
   "cell_type": "markdown",
   "metadata": {},
   "source": [
    "**Q Are lists mutable?**\n",
    "\n"
   ]
  },
  {
   "cell_type": "code",
   "execution_count": null,
   "metadata": {},
   "outputs": [],
   "source": [
    "# your code here"
   ]
  },
  {
   "cell_type": "markdown",
   "metadata": {},
   "source": [
    "**Q  What will be the result of `[1,2,3] + [1,1,1]`**\n",
    "\n",
    "*Hint*: The mathematical operations on `list` are very similar to how they work on `string`"
   ]
  },
  {
   "cell_type": "code",
   "execution_count": null,
   "metadata": {},
   "outputs": [],
   "source": [
    "# your code here"
   ]
  },
  {
   "cell_type": "markdown",
   "metadata": {},
   "source": [
    "**Q What will be the result of `x = [1,2,3] and x.extend([1,1,1])`**"
   ]
  },
  {
   "cell_type": "code",
   "execution_count": null,
   "metadata": {},
   "outputs": [],
   "source": [
    "# your code here"
   ]
  },
  {
   "cell_type": "markdown",
   "metadata": {},
   "source": [
    "You will notice that the memory location of z remains the same in the below example. This highlights the property that list are mutable"
   ]
  },
  {
   "cell_type": "markdown",
   "metadata": {},
   "source": [
    "Visualise the steps on [here](http://www.pythontutor.com/visualize.html#code=x%20%3D%20%5B1,2,3%5D%0A%0Aprint%28x%29%0Aprint%28len%28x%29%29%0Aprint%28%22--------%22%29%0A%0A%23%20extending%20%0Ax.extend%28%5B1,1,1%5D%29%0Aprint%28x%29%0Aprint%28len%28x%29%29&cumulative=false&curInstr=7&heapPrimitives=nevernest&mode=display&origin=opt-frontend.js&py=3&rawInputLstJSON=%5B%5D&textReferences=false)"
   ]
  },
  {
   "cell_type": "markdown",
   "metadata": {},
   "source": [
    "**Q What will be the result of `x = [1,2,3] and x.append([1,1,1])`**"
   ]
  },
  {
   "cell_type": "code",
   "execution_count": null,
   "metadata": {},
   "outputs": [],
   "source": [
    "# your code here"
   ]
  },
  {
   "cell_type": "markdown",
   "metadata": {},
   "source": [
    "Visualise the steps [here](http://www.pythontutor.com/visualize.html#code=x%20%3D%20%5B1,2,3%5D%0A%0Aprint%28x%29%0Aprint%28len%28x%29%29%0Aprint%28%22--------%22%29%0A%0A%23%20extending%20%0Ax.append%28%5B1,1,1%5D%29%0Aprint%28x%29&cumulative=false&curInstr=6&heapPrimitives=nevernest&mode=display&origin=opt-frontend.js&py=3&rawInputLstJSON=%5B%5D&textReferences=false)"
   ]
  },
  {
   "cell_type": "markdown",
   "metadata": {},
   "source": [
    "**Q What will happen when we do `z = [2,3,4]`; `z[0] = 5`**\n"
   ]
  },
  {
   "cell_type": "code",
   "execution_count": null,
   "metadata": {},
   "outputs": [],
   "source": [
    "# your code here"
   ]
  },
  {
   "cell_type": "markdown",
   "metadata": {},
   "source": [
    "**Q On doing the below steps?**\n",
    "  * `q = [1,2,3]`\n",
    "  * `r = q`\n",
    "  * `r[0] = 9`  \n",
    "  \n",
    "**What will be `q[0]`?**"
   ]
  },
  {
   "cell_type": "code",
   "execution_count": null,
   "metadata": {},
   "outputs": [],
   "source": [
    "# your code here"
   ]
  },
  {
   "cell_type": "markdown",
   "metadata": {},
   "source": [
    "Visualize the steps [here](http://www.pythontutor.com/visualize.html#code=q%20%3D%20%5B1,2,3%5D%0Aq%0A%0Ar%20%3D%20q%0A%0Aprint%28r%29%0A%0Ar%5B0%5D%20%3D%209%0Aprint%28r%29%0A%0Aprint%28q%5B0%5D%29%0Aprint%28q%29&cumulative=false&curInstr=8&heapPrimitives=nevernest&mode=display&origin=opt-frontend.js&py=3&rawInputLstJSON=%5B%5D&textReferences=false)"
   ]
  },
  {
   "cell_type": "markdown",
   "metadata": {},
   "source": [
    "**Q If `S` is a list what does the following syntax do: `T = S[:]`?**"
   ]
  },
  {
   "cell_type": "code",
   "execution_count": null,
   "metadata": {},
   "outputs": [],
   "source": [
    "# your code here"
   ]
  },
  {
   "cell_type": "markdown",
   "metadata": {},
   "source": [
    "Using the `[:]` creates a deep copy and then s and t are not referencing to the same memory block.  \n",
    "Visualzise the steps [here](http://www.pythontutor.com/visualize.html#code=s%20%3D%20%5B1,2,3%5D%0Aprint%28s%29%0Aprint%28s%5B%3A%5D%29%0A%0A%0A%0At%20%3D%20s%5B%3A%5D%0Aprint%28t%29%0A%0At%5B0%5D%20%3D%209%0A%0Aprint%28s%5B0%5D%29&cumulative=false&curInstr=7&heapPrimitives=nevernest&mode=display&origin=opt-frontend.js&py=3&rawInputLstJSON=%5B%5D&textReferences=false)"
   ]
  },
  {
   "cell_type": "markdown",
   "metadata": {},
   "source": [
    "**Q Consider the following list : `A = [\"john\",11,1.4]` . What will list `A` contain after the following command is run: `del(A[0])`?**"
   ]
  },
  {
   "cell_type": "code",
   "execution_count": null,
   "metadata": {},
   "outputs": [],
   "source": [
    "# your code here"
   ]
  },
  {
   "cell_type": "markdown",
   "metadata": {},
   "source": [
    "**Q In the list `L = [1,2,[3,'a'],[4,'b']]`. How to extract `'b'`?** \n"
   ]
  },
  {
   "cell_type": "code",
   "execution_count": null,
   "metadata": {},
   "outputs": [],
   "source": [
    "# your code here"
   ]
  },
  {
   "cell_type": "markdown",
   "metadata": {},
   "source": [
    "**Q What is the result of the following operation: `'P,Q,R,S'.split(',')`? What will be the type of the output?**"
   ]
  },
  {
   "cell_type": "code",
   "execution_count": null,
   "metadata": {},
   "outputs": [],
   "source": [
    "# your code here"
   ]
  },
  {
   "cell_type": "markdown",
   "metadata": {},
   "source": [
    "## Tuples"
   ]
  },
  {
   "cell_type": "markdown",
   "metadata": {},
   "source": [
    "**Q What is the result of the following: `len((\"salt\",10,1.2, \"sugar\",10))`**"
   ]
  },
  {
   "cell_type": "code",
   "execution_count": null,
   "metadata": {},
   "outputs": [],
   "source": [
    "# your code here"
   ]
  },
  {
   "cell_type": "markdown",
   "metadata": {},
   "source": [
    "**Q Consider the tuple `tuple_a = (\"P\",\"Q\",\"R\")`, what is the result of the following operation `tuple_a[-1]?`**"
   ]
  },
  {
   "cell_type": "code",
   "execution_count": null,
   "metadata": {},
   "outputs": [],
   "source": [
    "# your code here"
   ]
  },
  {
   "cell_type": "markdown",
   "metadata": {},
   "source": [
    "**Q Consider the `tuple A=((11,12),[21,22])`, that contains a tuple and list. What is the result of the following operation `A[1]`**"
   ]
  },
  {
   "cell_type": "code",
   "execution_count": null,
   "metadata": {},
   "outputs": [],
   "source": [
    "# your code here"
   ]
  },
  {
   "cell_type": "markdown",
   "metadata": {},
   "source": [
    "**Q Consider the `tuple A=((11,12),[21,22])`, that contains a tuple and list. What is the result of the following operation `A[0][1]`?**"
   ]
  },
  {
   "cell_type": "code",
   "execution_count": null,
   "metadata": {},
   "outputs": [],
   "source": [
    "# your code here"
   ]
  },
  {
   "cell_type": "markdown",
   "metadata": {},
   "source": [
    "## Dictionary"
   ]
  },
  {
   "cell_type": "markdown",
   "metadata": {},
   "source": [
    "Its important that the key of the dictionary, is immutable. hence it can only be a number, a string or a tuple"
   ]
  },
  {
   "cell_type": "code",
   "execution_count": null,
   "metadata": {},
   "outputs": [],
   "source": [
    "# Create a sample dictionary\n",
    "release_year_dict = {(3): \"1982\",\n",
    "                     \"Back in Black\": \"1980\", \\\n",
    "                    \"The Dark Side of the Moon\": \"1973\", \n",
    "                     \"The Bodyguard\": \"1992\", \\\n",
    "                    \"Bat Out of Hell\": \"1977\", \n",
    "                     \"Their Greatest Hits (1971-1975)\": \"1976\", \\\n",
    "                    \"Saturday Night Fever\": \"1977\", \"Rumours\": \"1977\"}\n",
    "release_year_dict"
   ]
  },
  {
   "cell_type": "code",
   "execution_count": null,
   "metadata": {},
   "outputs": [],
   "source": [
    "# Get all the keys in dictionary\n",
    "release_year_dict.keys() "
   ]
  },
  {
   "cell_type": "code",
   "execution_count": null,
   "metadata": {},
   "outputs": [],
   "source": [
    "# Get all the values in dictionary\n",
    "release_year_dict.values() "
   ]
  },
  {
   "cell_type": "markdown",
   "metadata": {},
   "source": [
    "**Add enteries** to the dictionary"
   ]
  },
  {
   "cell_type": "code",
   "execution_count": null,
   "metadata": {},
   "outputs": [],
   "source": [
    "# Append value with key into dictionary\n",
    "release_year_dict['Graduation'] = '2007'\n",
    "release_year_dict"
   ]
  },
  {
   "cell_type": "markdown",
   "metadata": {},
   "source": [
    "**Delete enteries**"
   ]
  },
  {
   "cell_type": "code",
   "execution_count": null,
   "metadata": {},
   "outputs": [],
   "source": [
    "# Delete entries by key\n",
    "del(release_year_dict['Thriller'])\n",
    "del(release_year_dict['Graduation'])\n",
    "release_year_dict"
   ]
  },
  {
   "cell_type": "markdown",
   "metadata": {},
   "source": [
    "# Resources/Further Reading 📚\n",
    "\n",
    "\n",
    "* **[Python Tutor](http://www.pythontutor.com/)** - A very good website to visualise the steps in Python. This is helpful to develop intuition behind the steps\n",
    "\n",
    "**Data Structure in Python** \n",
    "    \n",
    "    \n",
    "* **[Python for Aspiring Data Scientists](https://towardsdatascience.com/data-structures-in-python-python-for-aspiring-data-scientists-b52bc058fcbd)**\n",
    "\n",
    "* **[Python List](https://www.programiz.com/python-programming/list)** \n",
    "\n",
    "* **[Python Tuple](https://www.programiz.com/python-programming/tuple)**\n",
    "\n",
    "* **[Python Dictionary](https://www.programiz.com/python-programming/dictionary)**\n",
    "\n",
    "**Pandas**    \n",
    "    \n",
    "* **[10 mins pandas](https://pandas.pydata.org/pandas-docs/stable/user_guide/10min.html)** - Definitely check this out to get a quick introduction to pandas\n",
    "\n",
    "* **[Data Manipulation with Pandas](https://jakevdp.github.io/PythonDataScienceHandbook/03.00-introduction-to-pandas.html)**"
   ]
  },
  {
   "attachments": {},
   "cell_type": "markdown",
   "metadata": {},
   "source": [
    "# [Optional] 🤯\n",
    "\n",
    "## Memory Block\n",
    "\n",
    "* Python uses your RAM to store the objects that you create in a session\n",
    "* We can make use of the `id()` function to get the address of an object in python. This is an integer\n",
    "* Knowing this is very helpful when you want to understand if python is creating a copy of the object or just another reference. \n",
    "* Short-cut way to check if two python objects have the same address = `is` command\n",
    "\n",
    "* if you define `x = 30`, you can visualise below what will happen in the memory\n",
    "    \n",
    "\n",
    "![computer_memory.JPG](images/computer_memory.JPG)"
   ]
  },
  {
   "cell_type": "markdown",
   "metadata": {},
   "source": [
    "Python has a **memory efficient process** running in the background. The variables are a reference to the object and not the object itself. \n",
    "\n",
    "That means, if you save a number (for example 30) in python with variable `x` and later with `y`. The `x` and `y` will refer to the same place in memory"
   ]
  },
  {
   "cell_type": "code",
   "execution_count": null,
   "metadata": {},
   "outputs": [],
   "source": [
    "# save x = 30 \n",
    "x = 30 \n",
    "print(\"memory location of x :\", id(x))\n",
    "\n",
    "# now save 30 with y \n",
    "y = 30\n",
    "print(\"memory location of y :\", id(y))\n",
    "\n",
    "# the memory address of x and y are same, as they refer to the same location in memory"
   ]
  },
  {
   "cell_type": "markdown",
   "metadata": {},
   "source": [
    "## Copying and aliasing in python"
   ]
  },
  {
   "cell_type": "code",
   "execution_count": null,
   "metadata": {
    "scrolled": true
   },
   "outputs": [],
   "source": [
    "# aliasing a list\n",
    "\n",
    "a = [1,2,3]\n",
    "b = a\n",
    "\n",
    "print(\"a's address\", id(a))\n",
    "print(\"b's address\", id(b))\n",
    "\n",
    "print(a is b)"
   ]
  },
  {
   "cell_type": "markdown",
   "metadata": {},
   "source": [
    "The address of `a` and `b` will be same, as they both refer to the same object. \n",
    "\n",
    "**You can visualise the steps at this [link](http://www.pythontutor.com/visualize.html#code=%0Aa%20%3D%20%5B1,2,3%5D%0Ab%20%3D%20a%0A%0Aprint%28%22a's%20address%22,%20id%28a%29%29%0Aprint%28%22b's%20address%22,%20id%28b%29%29%0A%0Aprint%28a%20is%20b%29&cumulative=false&curInstr=0&heapPrimitives=nevernest&mode=display&origin=opt-frontend.js&py=3&rawInputLstJSON=%5B%5D&textReferences=false)**"
   ]
  },
  {
   "cell_type": "code",
   "execution_count": null,
   "metadata": {},
   "outputs": [],
   "source": [
    "# copying a list \n",
    "a = [1,2,3]\n",
    "b = a[:]\n",
    "\n",
    "print(\"a's address\", id(a))\n",
    "print(\"b's address\", id(b))\n",
    "\n",
    "print(a is b)"
   ]
  },
  {
   "cell_type": "markdown",
   "metadata": {},
   "source": [
    "The address of `a` and `b` will be different now, as they refer to different objects in python. \n",
    "\n",
    "**You can visualise the steps at this [link](http://www.pythontutor.com/visualize.html#code=%23%20copying%20a%20list%20%0Aa%20%3D%20%5B1,2,3%5D%0Ab%20%3D%20a%5B%3A%5D%0A%0Aprint%28%22a's%20address%22,%20id%28a%29%29%0Aprint%28%22b's%20address%22,%20id%28b%29%29%0A%0Aprint%28a%20is%20b%29&cumulative=false&curInstr=3&heapPrimitives=nevernest&mode=display&origin=opt-frontend.js&py=3&rawInputLstJSON=%5B%5D&textReferences=false)**"
   ]
  }
 ],
 "metadata": {
  "kernelspec": {
   "display_name": "Python 3 (ipykernel)",
   "language": "python",
   "name": "python3"
  },
  "language_info": {
   "codemirror_mode": {
    "name": "ipython",
    "version": 3
   },
   "file_extension": ".py",
   "mimetype": "text/x-python",
   "name": "python",
   "nbconvert_exporter": "python",
   "pygments_lexer": "ipython3",
   "version": "3.9.13"
  },
  "toc": {
   "base_numbering": 1,
   "nav_menu": {},
   "number_sections": true,
   "sideBar": true,
   "skip_h1_title": false,
   "title_cell": "Table of Contents",
   "title_sidebar": "Contents",
   "toc_cell": true,
   "toc_position": {
    "height": "calc(100% - 180px)",
    "left": "10px",
    "top": "150px",
    "width": "384px"
   },
   "toc_section_display": true,
   "toc_window_display": true
  }
 },
 "nbformat": 4,
 "nbformat_minor": 4
}
