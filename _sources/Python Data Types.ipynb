{
 "cells": [
  {
   "cell_type": "markdown",
   "metadata": {},
   "source": [
    "   \n",
    "# Python🐍 Data Types\n",
    "\n",
    "</div>"
   ]
  },
  {
   "cell_type": "markdown",
   "metadata": {},
   "source": [
    " 💡  <span style='font-family:Georgia'>\n",
    "    <font color= darkred> ***A journey of a thousand miles begins with a single step- Chinese Proverb*** \n",
    "    </font> 💡   "
   ]
  },
  {
   "cell_type": "markdown",
   "metadata": {},
   "source": [
    "    \n",
    "# Agenda ✔️\n",
    "    \n",
    "* Variables 📔\n",
    "    * Python Keywords\n",
    "* Data Types 📔\n",
    "    * Properties\n",
    "    * Conversion\n",
    "* OS Package 📔\n",
    "* Exercises 💥⚡\n",
    "    \n",
    "<div/>"
   ]
  },
  {
   "cell_type": "markdown",
   "metadata": {
    "toc": true
   },
   "source": [
    "<h1>Table of Contents<span class=\"tocSkip\"></span></h1>\n",
    "<div class=\"toc\"><ul class=\"toc-item\"><li><span><a href=\"#Python🐍-Data-Types\" data-toc-modified-id=\"Python🐍-Data-Types-1\"><span class=\"toc-item-num\">1&nbsp;&nbsp;</span>Python🐍 Data Types</a></span></li><li><span><a href=\"#Agenda-✔️\" data-toc-modified-id=\"Agenda-✔️-2\"><span class=\"toc-item-num\">2&nbsp;&nbsp;</span>Agenda ✔️</a></span></li><li><span><a href=\"#Theory\" data-toc-modified-id=\"Theory-3\"><span class=\"toc-item-num\">3&nbsp;&nbsp;</span>Theory</a></span><ul class=\"toc-item\"><li><span><a href=\"#▶️-Variable-Summary\" data-toc-modified-id=\"▶️-Variable-Summary-3.1\"><span class=\"toc-item-num\">3.1&nbsp;&nbsp;</span>▶️ Variable Summary</a></span></li><li><span><a href=\"#Python-has-got-4-major-datatypes\" data-toc-modified-id=\"Python-has-got-4-major-datatypes-3.2\"><span class=\"toc-item-num\">3.2&nbsp;&nbsp;</span>Python has got 4 major datatypes</a></span></li><li><span><a href=\"#▶️-Data-Type-Summary\" data-toc-modified-id=\"▶️-Data-Type-Summary-3.3\"><span class=\"toc-item-num\">3.3&nbsp;&nbsp;</span>▶️ Data Type Summary</a></span></li><li><span><a href=\"#Packages-in-Python\" data-toc-modified-id=\"Packages-in-Python-3.4\"><span class=\"toc-item-num\">3.4&nbsp;&nbsp;</span>Packages in Python</a></span><ul class=\"toc-item\"><li><span><a href=\"#os-package\" data-toc-modified-id=\"os-package-3.4.1\"><span class=\"toc-item-num\">3.4.1&nbsp;&nbsp;</span><code>os</code> package</a></span></li></ul></li><li><span><a href=\"#▶️-Operating-Systems-Summary\" data-toc-modified-id=\"▶️-Operating-Systems-Summary-3.5\"><span class=\"toc-item-num\">3.5&nbsp;&nbsp;</span>▶️ Operating Systems Summary</a></span></li></ul></li><li><span><a href=\"#Exercises-❓🌟\" data-toc-modified-id=\"Exercises-❓🌟-4\"><span class=\"toc-item-num\">4&nbsp;&nbsp;</span>Exercises ❓🌟</a></span><ul class=\"toc-item\"><li><span><a href=\"#Data-Types\" data-toc-modified-id=\"Data-Types-4.1\"><span class=\"toc-item-num\">4.1&nbsp;&nbsp;</span>Data Types</a></span></li><li><span><a href=\"#Variables\" data-toc-modified-id=\"Variables-4.2\"><span class=\"toc-item-num\">4.2&nbsp;&nbsp;</span>Variables</a></span></li><li><span><a href=\"#Strings\" data-toc-modified-id=\"Strings-4.3\"><span class=\"toc-item-num\">4.3&nbsp;&nbsp;</span>Strings</a></span></li></ul></li><li><span><a href=\"#Points-to-remember-🧠\" data-toc-modified-id=\"Points-to-remember-🧠-5\"><span class=\"toc-item-num\">5&nbsp;&nbsp;</span>Points to remember 🧠</a></span></li><li><span><a href=\"#Resources/Further-Reading-📚\" data-toc-modified-id=\"Resources/Further-Reading-📚-6\"><span class=\"toc-item-num\">6&nbsp;&nbsp;</span>Resources/Further Reading 📚</a></span></li></ul></div>"
   ]
  },
  {
   "cell_type": "markdown",
   "metadata": {},
   "source": [
    "# Theory"
   ]
  },
  {
   "cell_type": "markdown",
   "metadata": {},
   "source": [
    "\n",
    "**Variables store values and keep code organized**"
   ]
  },
  {
   "cell_type": "code",
   "execution_count": null,
   "metadata": {},
   "outputs": [],
   "source": [
    "x = 3 \n",
    "y = 'Hello'"
   ]
  },
  {
   "cell_type": "markdown",
   "metadata": {},
   "source": [
    "**`print()` allows you to see the value of the variable**"
   ]
  },
  {
   "cell_type": "code",
   "execution_count": null,
   "metadata": {},
   "outputs": [],
   "source": [
    "print(x)\n",
    "print(y)"
   ]
  },
  {
   "cell_type": "markdown",
   "metadata": {},
   "source": [
    "**`type()` tells you the data type of the variable**"
   ]
  },
  {
   "cell_type": "code",
   "execution_count": null,
   "metadata": {},
   "outputs": [],
   "source": [
    "print(type(x))\n",
    "print(type(y))"
   ]
  },
  {
   "attachments": {},
   "cell_type": "markdown",
   "metadata": {},
   "source": [
    "## ▶️ Variable Summary\n",
    "\n",
    "* Used to store information to be used in a computer program\n",
    "* Has three components: \n",
    "   * kind given by `type()`, \n",
    "   * value given by `print()`\n",
    "   * memory address given by `id()`\n",
    "* There are rules in variable names:\n",
    "    * Should start with alphabet or _ (underscore)\n",
    "    * cannot start with a number\n",
    "    * cannot have a space\n",
    "    * can be alpha-numeric \n",
    "    * should avoid `keywords` while naming\n",
    "    \n",
    "![keywords.PNG](images/keywords.PNG)\n",
    "    \n",
    "<div/>"
   ]
  },
  {
   "cell_type": "markdown",
   "metadata": {},
   "source": [
    "## Python has got 4 major datatypes"
   ]
  },
  {
   "cell_type": "markdown",
   "metadata": {},
   "source": [
    "**`int` is for whole numbers**"
   ]
  },
  {
   "cell_type": "code",
   "execution_count": null,
   "metadata": {},
   "outputs": [],
   "source": [
    "# store the value\n",
    "x = 2\n",
    "\n",
    "# check the data type\n",
    "print(type(x))"
   ]
  },
  {
   "cell_type": "markdown",
   "metadata": {},
   "source": [
    "**`float` is for numbers with decimals**"
   ]
  },
  {
   "cell_type": "code",
   "execution_count": null,
   "metadata": {},
   "outputs": [],
   "source": [
    "# store the value\n",
    "y = 2.0\n",
    "\n",
    "# check the data type\n",
    "print(type(y))"
   ]
  },
  {
   "cell_type": "markdown",
   "metadata": {},
   "source": [
    "**`string` is used for text**"
   ]
  },
  {
   "cell_type": "code",
   "execution_count": null,
   "metadata": {},
   "outputs": [],
   "source": [
    "a = \"Learning Python is fun\"\n",
    "\n",
    "print(a)\n",
    "print(type(a))"
   ]
  },
  {
   "cell_type": "markdown",
   "metadata": {},
   "source": [
    "**`string` can be saved using single quote or double quotes**"
   ]
  },
  {
   "cell_type": "code",
   "execution_count": null,
   "metadata": {},
   "outputs": [],
   "source": [
    "p = 'Japan'\n",
    "\n",
    "q = \"Japan\"\n",
    "\n",
    "print(p)\n",
    "print(q)"
   ]
  },
  {
   "cell_type": "code",
   "execution_count": null,
   "metadata": {},
   "outputs": [],
   "source": [
    "# both are equal \n",
    "p == q"
   ]
  },
  {
   "cell_type": "markdown",
   "metadata": {},
   "source": [
    "**`bool` is used for True/ False**"
   ]
  },
  {
   "cell_type": "code",
   "execution_count": null,
   "metadata": {},
   "outputs": [],
   "source": [
    "p = True\n",
    "q = False\n",
    "\n",
    "# check the data type\n",
    "print(type(p))\n",
    "print(type(q))"
   ]
  },
  {
   "cell_type": "markdown",
   "metadata": {},
   "source": [
    "**You can convert one datatype into another**\n",
    "\n",
    "* The conversion can be done using `int()`, `float()`, `bool()`, `str()`\n",
    "* There will be some exceptions, like a string can't be converted to a number, however a number can be"
   ]
  },
  {
   "cell_type": "code",
   "execution_count": null,
   "metadata": {},
   "outputs": [],
   "source": [
    "x = 2\n",
    "\n",
    "print(x)\n",
    "print(type(x))"
   ]
  },
  {
   "cell_type": "code",
   "execution_count": null,
   "metadata": {},
   "outputs": [],
   "source": [
    "type(float(x))"
   ]
  },
  {
   "cell_type": "code",
   "execution_count": null,
   "metadata": {},
   "outputs": [],
   "source": [
    "type(x)"
   ]
  },
  {
   "cell_type": "code",
   "execution_count": null,
   "metadata": {},
   "outputs": [],
   "source": [
    "x = float(x)"
   ]
  },
  {
   "cell_type": "code",
   "execution_count": null,
   "metadata": {},
   "outputs": [],
   "source": [
    "type(x)"
   ]
  },
  {
   "cell_type": "code",
   "execution_count": null,
   "metadata": {},
   "outputs": [],
   "source": [
    "y = 5\n",
    "print(y)\n",
    "print(type(y))"
   ]
  },
  {
   "cell_type": "code",
   "execution_count": null,
   "metadata": {},
   "outputs": [],
   "source": [
    "x = '5'\n",
    "print(type(x))"
   ]
  },
  {
   "cell_type": "markdown",
   "metadata": {},
   "source": [
    "**`int`  to `float` conversion**"
   ]
  },
  {
   "cell_type": "code",
   "execution_count": null,
   "metadata": {},
   "outputs": [],
   "source": [
    "x = float(x)\n",
    "print(x)\n",
    "print(type(x))"
   ]
  },
  {
   "cell_type": "markdown",
   "metadata": {},
   "source": [
    "**`float`  to `int` conversion**"
   ]
  },
  {
   "cell_type": "code",
   "execution_count": null,
   "metadata": {},
   "outputs": [],
   "source": [
    "y = 2.3\n",
    "print(y)\n",
    "print(type(y))"
   ]
  },
  {
   "cell_type": "markdown",
   "metadata": {},
   "source": [
    "⚠️ Be careful though. Numbers after decimal point will be dropped"
   ]
  },
  {
   "cell_type": "code",
   "execution_count": null,
   "metadata": {},
   "outputs": [],
   "source": [
    "y = int(y)\n",
    "\n",
    "print(y)\n",
    "print(type(y))"
   ]
  },
  {
   "cell_type": "markdown",
   "metadata": {},
   "source": [
    "**`int`  to `bool` conversion**\n",
    "\n",
    "* 0 always converts to False\n",
    "* Any value other than 0 is True, whether positive or negative"
   ]
  },
  {
   "cell_type": "code",
   "execution_count": null,
   "metadata": {},
   "outputs": [],
   "source": [
    "y = -2.3\n",
    "print(y)\n",
    "print(type(y))"
   ]
  },
  {
   "cell_type": "code",
   "execution_count": null,
   "metadata": {},
   "outputs": [],
   "source": [
    "bool(y)"
   ]
  },
  {
   "cell_type": "code",
   "execution_count": null,
   "metadata": {},
   "outputs": [],
   "source": [
    "z = 0\n",
    "print(z)\n",
    "print(type(z))"
   ]
  },
  {
   "cell_type": "code",
   "execution_count": null,
   "metadata": {},
   "outputs": [],
   "source": [
    "z = bool(z) \n",
    "\n",
    "print(z)\n",
    "print(type(z))"
   ]
  },
  {
   "cell_type": "markdown",
   "metadata": {},
   "source": [
    "**Bool to Int**"
   ]
  },
  {
   "cell_type": "code",
   "execution_count": null,
   "metadata": {},
   "outputs": [],
   "source": [
    "int(True)"
   ]
  },
  {
   "cell_type": "code",
   "execution_count": null,
   "metadata": {},
   "outputs": [],
   "source": [
    "int(False)"
   ]
  },
  {
   "attachments": {},
   "cell_type": "markdown",
   "metadata": {},
   "source": [
    "## ▶️ Data Type Summary\n",
    "    \n",
    "![py_datatypes_v2.png](images/py_datatypes_v2.png)\n",
    "\n",
    "Source: Jovian ML\n",
    "    \n",
    "    \n",
    "| **Data type** | **Example**        |\n",
    "|-------------- |--------------------|\n",
    "|     `float`   |     3.14           |\n",
    "|     `int`     |     3              |\n",
    "|     `string`  |     'john'         |\n",
    "|     `bool`    |     True, False    |\n",
    "    \n",
    "    \n",
    "* Every data-type has a specific property in Python and are used to represent different kinds of data \n",
    "* One can check for the data type of an item using `type(item)`\n",
    "* One can convert one data type into another using : `int()`, `str()`, `float()` and `bool()`\n",
    "    "
   ]
  },
  {
   "cell_type": "markdown",
   "metadata": {},
   "source": [
    "## Packages in Python"
   ]
  },
  {
   "cell_type": "markdown",
   "metadata": {},
   "source": [
    "**In Python, whenever you want to run a package, you need to `import` it. In the smartphone analogy, this is equal to tapping on an app to start it. You would have pre-installed apps and apps that you would need to installed. \n",
    "Remember, like in a phone's pre-installed apps, `os` is one of the pre-installed apps.**"
   ]
  },
  {
   "cell_type": "markdown",
   "metadata": {},
   "source": [
    "**You won't get any message if a package is imported succesfully. Only if you do a wrong loading, error message will be shown**"
   ]
  },
  {
   "cell_type": "markdown",
   "metadata": {},
   "source": [
    "**While importing you can also use alias, by the command as, this is often done. It helps to make the code crisp**"
   ]
  },
  {
   "cell_type": "code",
   "execution_count": null,
   "metadata": {},
   "outputs": [],
   "source": [
    "# import the module\n",
    "import os\n",
    "print(\"The code ran\")"
   ]
  },
  {
   "cell_type": "markdown",
   "metadata": {},
   "source": [
    "**You will see an error message if you load something wrongly. Example: loading a non-existing package**"
   ]
  },
  {
   "cell_type": "code",
   "execution_count": null,
   "metadata": {},
   "outputs": [],
   "source": [
    "import os"
   ]
  },
  {
   "cell_type": "markdown",
   "metadata": {},
   "source": [
    "**Installing a new package**"
   ]
  },
  {
   "cell_type": "markdown",
   "metadata": {},
   "source": [
    "We can install a new package using `pip`. The most easiest way is to install a package within the Jupyter notebook. \n",
    "\n",
    "The syntax is `!pip install packagename`"
   ]
  },
  {
   "cell_type": "markdown",
   "metadata": {},
   "source": [
    "**Installing Plotly package**\n",
    "\n",
    "Let's install a package and understand the process. Run the cell below"
   ]
  },
  {
   "cell_type": "code",
   "execution_count": null,
   "metadata": {},
   "outputs": [],
   "source": [
    "# loading the package\n",
    "import plotly\n",
    "print(\"All ran properly\")"
   ]
  },
  {
   "cell_type": "code",
   "execution_count": null,
   "metadata": {},
   "outputs": [],
   "source": [
    "!pip install plotly"
   ]
  },
  {
   "cell_type": "markdown",
   "metadata": {},
   "source": [
    "**The above code will generate some text detailing the installation.If you get an error, please google for the answer. If you can't figure it out, please reach out**"
   ]
  },
  {
   "cell_type": "markdown",
   "metadata": {},
   "source": [
    "**To check if the installation happened properly, running the below code should not give any error**"
   ]
  },
  {
   "cell_type": "code",
   "execution_count": null,
   "metadata": {},
   "outputs": [],
   "source": [
    "# loading the package\n",
    "import plotly\n",
    "print(\"All ran properly\")"
   ]
  },
  {
   "cell_type": "markdown",
   "metadata": {},
   "source": [
    "**Checking the installed version of a package**"
   ]
  },
  {
   "cell_type": "markdown",
   "metadata": {},
   "source": [
    "The syntax to check a version of the installed packages. `packagename.__version__`"
   ]
  },
  {
   "cell_type": "code",
   "execution_count": null,
   "metadata": {},
   "outputs": [],
   "source": [
    "# checking the version of pandas\n",
    "import pandas as pd\n",
    "print(pd.__version__)"
   ]
  },
  {
   "cell_type": "code",
   "execution_count": null,
   "metadata": {},
   "outputs": [],
   "source": [
    "# checking the version of numpy \n",
    "import numpy as np\n",
    "print(np.__version__)"
   ]
  },
  {
   "cell_type": "code",
   "execution_count": null,
   "metadata": {},
   "outputs": [],
   "source": [
    "print(plotly.__version__)"
   ]
  },
  {
   "cell_type": "markdown",
   "metadata": {},
   "source": [
    "### `os` package\n",
    "**The `os` package in python helps us interact with the os system**"
   ]
  },
  {
   "cell_type": "markdown",
   "metadata": {},
   "source": [
    "**What is my current working directory (folder) - `cwd`?**"
   ]
  },
  {
   "cell_type": "code",
   "execution_count": null,
   "metadata": {},
   "outputs": [],
   "source": [
    "import os"
   ]
  },
  {
   "cell_type": "code",
   "execution_count": null,
   "metadata": {},
   "outputs": [],
   "source": [
    "os.getcwd()"
   ]
  },
  {
   "cell_type": "markdown",
   "metadata": {},
   "source": [
    "**Can we see the files in the directory?**"
   ]
  },
  {
   "cell_type": "code",
   "execution_count": null,
   "metadata": {},
   "outputs": [],
   "source": [
    "os.listdir() # list directory"
   ]
  },
  {
   "cell_type": "markdown",
   "metadata": {},
   "source": [
    "**Can we create a new directory (folder) in `cwd`?**"
   ]
  },
  {
   "cell_type": "code",
   "execution_count": null,
   "metadata": {},
   "outputs": [],
   "source": [
    "# os.makedirs('new_folder2') # by default it will create it in the working directory"
   ]
  },
  {
   "cell_type": "markdown",
   "metadata": {},
   "source": [
    "**Make the new folder as my working directory**"
   ]
  },
  {
   "cell_type": "code",
   "execution_count": null,
   "metadata": {},
   "outputs": [],
   "source": [
    "# your code here"
   ]
  },
  {
   "cell_type": "markdown",
   "metadata": {},
   "source": [
    "**`Try it activity`:  Create a new folder `audit_training` and make it your working directory (folder)**"
   ]
  },
  {
   "cell_type": "code",
   "execution_count": null,
   "metadata": {},
   "outputs": [],
   "source": [
    "# your code here"
   ]
  },
  {
   "cell_type": "markdown",
   "metadata": {},
   "source": [
    "##  ▶️ Operating Systems Summary\n",
    "    \n",
    "    \n",
    "* The `os` module in python helps us interact with the os system\n",
    "* Provides functions for **creating and removing a directory (folder), fetching its contents, changing and identifying the current directory** \n",
    "    \n",
    "    \n",
    "**Summary**\n",
    "\n",
    "```py\n",
    "os.getcwd() # get the current working directory\n",
    "os.listdir() # get the files in the folder\n",
    "os.makedirs() # create a new folder\n",
    "os.chdir() # change the working directory\n",
    "```"
   ]
  },
  {
   "cell_type": "markdown",
   "metadata": {},
   "source": [
    "# Exercises ❓🌟"
   ]
  },
  {
   "cell_type": "markdown",
   "metadata": {},
   "source": [
    "**Some of the exercises below are strech exercises, you may need to rely on Google to answer them. This should be a good experience of figuring out things on your own**"
   ]
  },
  {
   "cell_type": "markdown",
   "metadata": {},
   "source": [
    "## Data Types"
   ]
  },
  {
   "cell_type": "markdown",
   "metadata": {},
   "source": [
    "**Q1** What is the type of the following: `2.0`"
   ]
  },
  {
   "cell_type": "code",
   "execution_count": null,
   "metadata": {},
   "outputs": [],
   "source": [
    "# your code here"
   ]
  },
  {
   "cell_type": "markdown",
   "metadata": {},
   "source": [
    "**Q2**  What is the result of the following code segment: `type(int(13.6))`\n"
   ]
  },
  {
   "cell_type": "code",
   "execution_count": null,
   "metadata": {},
   "outputs": [],
   "source": [
    "# your code here"
   ]
  },
  {
   "cell_type": "markdown",
   "metadata": {},
   "source": [
    "**Q3** What is the result of the following code segment: `int(4.99)`\n"
   ]
  },
  {
   "cell_type": "code",
   "execution_count": null,
   "metadata": {},
   "outputs": [],
   "source": [
    "# your code here"
   ]
  },
  {
   "cell_type": "markdown",
   "metadata": {},
   "source": [
    "**Q4** What is the result of the following code segment: `int(False)`"
   ]
  },
  {
   "cell_type": "code",
   "execution_count": null,
   "metadata": {},
   "outputs": [],
   "source": [
    "# your code here"
   ]
  },
  {
   "cell_type": "markdown",
   "metadata": {},
   "source": [
    "**Q5** What is the result of the following code segment: `1/3` ? What data type it is?"
   ]
  },
  {
   "cell_type": "code",
   "execution_count": null,
   "metadata": {},
   "outputs": [],
   "source": [
    "# your code here"
   ]
  },
  {
   "cell_type": "markdown",
   "metadata": {},
   "source": [
    "**Q6** What is the data type of the *`'3'``*"
   ]
  },
  {
   "cell_type": "code",
   "execution_count": null,
   "metadata": {},
   "outputs": [],
   "source": [
    "# your code here"
   ]
  },
  {
   "cell_type": "markdown",
   "metadata": {},
   "source": [
    "## Variables"
   ]
  },
  {
   "cell_type": "markdown",
   "metadata": {},
   "source": [
    "**Q1** What is the value of `x` after the following lines of code?  \n",
    "       `x = 2`  \n",
    "       `x = x + 2`"
   ]
  },
  {
   "cell_type": "code",
   "execution_count": null,
   "metadata": {},
   "outputs": [],
   "source": [
    "# your code here"
   ]
  },
  {
   "cell_type": "markdown",
   "metadata": {},
   "source": [
    "**Q2** What would be the value of `y` in the following operation `y = 2 + 5*4`\n"
   ]
  },
  {
   "cell_type": "code",
   "execution_count": null,
   "metadata": {},
   "outputs": [],
   "source": [
    "# your code here"
   ]
  },
  {
   "cell_type": "markdown",
   "metadata": {},
   "source": [
    " **Q3** What is the type of the variable x after the following: `x = 2/2` ?"
   ]
  },
  {
   "cell_type": "code",
   "execution_count": null,
   "metadata": {},
   "outputs": [],
   "source": [
    "# your code here"
   ]
  },
  {
   "cell_type": "markdown",
   "metadata": {},
   "source": [
    "## Strings"
   ]
  },
  {
   "cell_type": "markdown",
   "metadata": {},
   "source": [
    "**Q1** Is `\"China\"` and `\"china\"` same for python?"
   ]
  },
  {
   "cell_type": "code",
   "execution_count": null,
   "metadata": {},
   "outputs": [],
   "source": [
    "# your code here"
   ]
  },
  {
   "cell_type": "markdown",
   "metadata": {},
   "source": [
    "**Q2** Is `\"japan\"` and `'japan'` same for python?"
   ]
  },
  {
   "cell_type": "code",
   "execution_count": null,
   "metadata": {},
   "outputs": [],
   "source": [
    "# your code here"
   ]
  },
  {
   "cell_type": "markdown",
   "metadata": {},
   "source": [
    "**Q3** How would you determine the length of the string: `\"japan\"`"
   ]
  },
  {
   "cell_type": "code",
   "execution_count": null,
   "metadata": {},
   "outputs": [],
   "source": [
    "# your code here"
   ]
  },
  {
   "cell_type": "markdown",
   "metadata": {},
   "source": [
    "**Q4** What is the result of the following operation: `'2'+'3'` ?\n"
   ]
  },
  {
   "cell_type": "code",
   "execution_count": null,
   "metadata": {},
   "outputs": [],
   "source": [
    "# your code here"
   ]
  },
  {
   "cell_type": "markdown",
   "metadata": {},
   "source": [
    "**Q5** What is the result of the following : `str(2) + str(2)` ?\n"
   ]
  },
  {
   "cell_type": "code",
   "execution_count": null,
   "metadata": {},
   "outputs": [],
   "source": [
    "# your code here"
   ]
  },
  {
   "cell_type": "markdown",
   "metadata": {},
   "source": [
    "**Q6** If you executed `name = 'Buzz'`, what would be the output of `print(name[0:2])`?\n"
   ]
  },
  {
   "cell_type": "code",
   "execution_count": null,
   "metadata": {},
   "outputs": [],
   "source": [
    "# your code here"
   ]
  },
  {
   "cell_type": "markdown",
   "metadata": {},
   "source": [
    "**Q7** If you executed `var = '01234567'`, what would be the result of `print(var[::2])`?\n"
   ]
  },
  {
   "cell_type": "code",
   "execution_count": null,
   "metadata": {},
   "outputs": [],
   "source": [
    "# your code here"
   ]
  },
  {
   "cell_type": "markdown",
   "metadata": {},
   "source": [
    "**Q8** What is the result of the following: `'hello'.upper()` ?\n"
   ]
  },
  {
   "cell_type": "code",
   "execution_count": null,
   "metadata": {},
   "outputs": [],
   "source": [
    "# your code here"
   ]
  },
  {
   "cell_type": "markdown",
   "metadata": {},
   "source": [
    "**Q9** What is the result of the following: `\"123\".replace(\"12\", \"pqr\")` ?"
   ]
  },
  {
   "cell_type": "code",
   "execution_count": null,
   "metadata": {},
   "outputs": [],
   "source": [
    "# your code here"
   ]
  },
  {
   "cell_type": "markdown",
   "metadata": {},
   "source": [
    "**Q10** What is the result of `\"netherlands\".find(\"land\")`?"
   ]
  },
  {
   "cell_type": "code",
   "execution_count": null,
   "metadata": {},
   "outputs": [],
   "source": [
    "# your code here"
   ]
  },
  {
   "cell_type": "markdown",
   "metadata": {},
   "source": [
    "**Q11** How to reverse a string? `x = \"London\"`"
   ]
  },
  {
   "cell_type": "code",
   "execution_count": null,
   "metadata": {},
   "outputs": [],
   "source": [
    "# your code here"
   ]
  },
  {
   "cell_type": "markdown",
   "metadata": {},
   "source": [
    "  \n",
    "\n",
    "# Points to remember 🧠\n",
    "\n",
    "* The counting in Python starts from 0. \n",
    "* We can check for a data-type using the `type()` function. \n",
    "* Python can also do reverse count, it starts from -1. \n",
    "\n",
    "    \n",
    "* One can convert a data type into another using different functions `int()`, `str()`, `float()`\n",
    "* `float` is for the decimal numbers\n",
    "\n",
    "    \n",
    "* You can do different operations on strings- `.upper()`, `.replace()`, `.find()`\n",
    "* We can slice a string using `[start:stop:steps]` operation\n",
    "    * Remember the `stop` is not inclusive\n",
    "* Also, you can find the reverse of a string using `string[::-1]`\n",
    "    \n",
    "<div/>"
   ]
  },
  {
   "cell_type": "markdown",
   "metadata": {},
   "source": [
    "   \n",
    "# Resources/Further Reading 📚\n",
    "\n",
    "* Read about the different functions in `os` module [here](https://docs.python.org/3/library/os.html)\n",
    "* Tutorial on how to use `os` module [here](https://www.tutorialsteacher.com/python/os-module)\n",
    "* [Jupyter Notebook Markdown](https://medium.com/game-of-data/12-things-to-know-about-jupyter-notebook-markdown-3f6cef811707)"
   ]
  }
 ],
 "metadata": {
  "kernelspec": {
   "display_name": "Python 3 (ipykernel)",
   "language": "python",
   "name": "python3"
  },
  "language_info": {
   "codemirror_mode": {
    "name": "ipython",
    "version": 3
   },
   "file_extension": ".py",
   "mimetype": "text/x-python",
   "name": "python",
   "nbconvert_exporter": "python",
   "pygments_lexer": "ipython3",
   "version": "3.9.13"
  },
  "toc": {
   "base_numbering": 1,
   "nav_menu": {},
   "number_sections": true,
   "sideBar": true,
   "skip_h1_title": false,
   "title_cell": "Table of Contents",
   "title_sidebar": "Contents",
   "toc_cell": true,
   "toc_position": {},
   "toc_section_display": true,
   "toc_window_display": true
  }
 },
 "nbformat": 4,
 "nbformat_minor": 4
}
